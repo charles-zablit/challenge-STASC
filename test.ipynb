{
 "cells": [
  {
   "cell_type": "markdown",
   "metadata": {},
   "source": [
    "<div align=center>\n",
    "<h1>Comment démasquer les fraudeurs ?</h1>\n",
    "<h2>par BNP Paribas PF</h2>\n",
    "<h3>MICHELON François</h3>\n",
    "<h3>ZABLIT Charles</h3>\n",
    "</div>\n"
   ]
  },
  {
   "cell_type": "markdown",
   "metadata": {},
   "source": [
    "# 0. Configuration\n"
   ]
  },
  {
   "cell_type": "markdown",
   "metadata": {},
   "source": [
    "## 0.1 Imports de modules\n"
   ]
  },
  {
   "cell_type": "code",
   "execution_count": 1,
   "metadata": {},
   "outputs": [],
   "source": [
    "import logging\n",
    "import pathlib\n",
    "import re\n",
    "from typing import Tuple, List\n",
    "from collections import Counter\n",
    "\n",
    "import gensim.downloader as api\n",
    "import numpy as np\n",
    "import pandas as pd\n",
    "from sklearn.base import BaseEstimator, TransformerMixin\n",
    "from sklearn.compose import ColumnTransformer\n",
    "from sklearn.ensemble import RandomForestClassifier\n",
    "from sklearn.decomposition import PCA\n",
    "import sklearn.linear_model as linear_model\n",
    "from sklearn.model_selection import (\n",
    "    GridSearchCV,\n",
    "    train_test_split,\n",
    "    StratifiedShuffleSplit,\n",
    ")\n",
    "from sklearn.pipeline import Pipeline, make_pipeline\n",
    "from sklearn.preprocessing import StandardScaler, MinMaxScaler\n",
    "import sklearn.svm as svm\n",
    "import sklearn.metrics as metrics\n",
    "import matplotlib.pyplot as plt\n",
    "from tensorflow.keras.preprocessing.text import Tokenizer"
   ]
  },
  {
   "cell_type": "markdown",
   "metadata": {},
   "source": [
    "## 0.2 Configuration du logger\n"
   ]
  },
  {
   "cell_type": "code",
   "execution_count": 2,
   "metadata": {},
   "outputs": [],
   "source": [
    "# Initialize logger\n",
    "logging.basicConfig(level=logging.INFO)"
   ]
  },
  {
   "cell_type": "markdown",
   "metadata": {},
   "source": [
    "## 0.3 Configuration des chemins de fichiers\n"
   ]
  },
  {
   "cell_type": "code",
   "execution_count": 3,
   "metadata": {},
   "outputs": [],
   "source": [
    "X_train_file = pathlib.Path(\"data/X_train_G3tdtEn.csv\")\n",
    "y_train_file = pathlib.Path(\"data/Y_train_2_XPXJDyy.csv\")\n",
    "X_test_file = pathlib.Path(\"data/X_test_8skS2ey.csv\")"
   ]
  },
  {
   "cell_type": "markdown",
   "metadata": {},
   "source": [
    "# 1. Analyse des données\n"
   ]
  },
  {
   "cell_type": "markdown",
   "metadata": {},
   "source": [
    "## 1.1 Chargement des données\n"
   ]
  },
  {
   "cell_type": "code",
   "execution_count": 4,
   "metadata": {},
   "outputs": [],
   "source": [
    "def load_train_df(path: pathlib.Path) -> pd.DataFrame:\n",
    "    mixed_columns = (\n",
    "        [\"item\" + str(i) for i in range(1, 25)]\n",
    "        + [\"make\" + str(i) for i in range(1, 25)]\n",
    "        + [\"model\" + str(i) for i in range(1, 25)]\n",
    "        + [\"goods_code\" + str(i) for i in range(1, 25)]\n",
    "    )\n",
    "    dtype = {col: str for col in mixed_columns}\n",
    "    return pd.read_csv(path, dtype=dtype)\n",
    "\n",
    "\n",
    "def load_test_df(path: pathlib.Path) -> pd.Series:\n",
    "    return pd.read_csv(path)[\"fraud_flag\"]"
   ]
  },
  {
   "cell_type": "code",
   "execution_count": 5,
   "metadata": {},
   "outputs": [],
   "source": [
    "X_train_df = load_train_df(X_train_file)\n",
    "y_train_df = load_test_df(y_train_file)\n",
    "X_test_df = load_train_df(X_test_file)"
   ]
  },
  {
   "cell_type": "code",
   "execution_count": 6,
   "metadata": {},
   "outputs": [
    {
     "data": {
      "text/html": [
       "<div>\n",
       "<style scoped>\n",
       "    .dataframe tbody tr th:only-of-type {\n",
       "        vertical-align: middle;\n",
       "    }\n",
       "\n",
       "    .dataframe tbody tr th {\n",
       "        vertical-align: top;\n",
       "    }\n",
       "\n",
       "    .dataframe thead th {\n",
       "        text-align: right;\n",
       "    }\n",
       "</style>\n",
       "<table border=\"1\" class=\"dataframe\">\n",
       "  <thead>\n",
       "    <tr style=\"text-align: right;\">\n",
       "      <th></th>\n",
       "      <th>ID</th>\n",
       "      <th>item1</th>\n",
       "      <th>item2</th>\n",
       "      <th>item3</th>\n",
       "      <th>item4</th>\n",
       "      <th>item5</th>\n",
       "      <th>item6</th>\n",
       "      <th>item7</th>\n",
       "      <th>item8</th>\n",
       "      <th>item9</th>\n",
       "      <th>...</th>\n",
       "      <th>Nbr_of_prod_purchas16</th>\n",
       "      <th>Nbr_of_prod_purchas17</th>\n",
       "      <th>Nbr_of_prod_purchas18</th>\n",
       "      <th>Nbr_of_prod_purchas19</th>\n",
       "      <th>Nbr_of_prod_purchas20</th>\n",
       "      <th>Nbr_of_prod_purchas21</th>\n",
       "      <th>Nbr_of_prod_purchas22</th>\n",
       "      <th>Nbr_of_prod_purchas23</th>\n",
       "      <th>Nbr_of_prod_purchas24</th>\n",
       "      <th>Nb_of_items</th>\n",
       "    </tr>\n",
       "  </thead>\n",
       "  <tbody>\n",
       "    <tr>\n",
       "      <th>0</th>\n",
       "      <td>85517</td>\n",
       "      <td>COMPUTERS</td>\n",
       "      <td>NaN</td>\n",
       "      <td>NaN</td>\n",
       "      <td>NaN</td>\n",
       "      <td>NaN</td>\n",
       "      <td>NaN</td>\n",
       "      <td>NaN</td>\n",
       "      <td>NaN</td>\n",
       "      <td>NaN</td>\n",
       "      <td>...</td>\n",
       "      <td>NaN</td>\n",
       "      <td>NaN</td>\n",
       "      <td>NaN</td>\n",
       "      <td>NaN</td>\n",
       "      <td>NaN</td>\n",
       "      <td>NaN</td>\n",
       "      <td>NaN</td>\n",
       "      <td>NaN</td>\n",
       "      <td>NaN</td>\n",
       "      <td>1.0</td>\n",
       "    </tr>\n",
       "    <tr>\n",
       "      <th>1</th>\n",
       "      <td>51113</td>\n",
       "      <td>COMPUTER PERIPHERALS ACCESSORIES</td>\n",
       "      <td>NaN</td>\n",
       "      <td>NaN</td>\n",
       "      <td>NaN</td>\n",
       "      <td>NaN</td>\n",
       "      <td>NaN</td>\n",
       "      <td>NaN</td>\n",
       "      <td>NaN</td>\n",
       "      <td>NaN</td>\n",
       "      <td>...</td>\n",
       "      <td>NaN</td>\n",
       "      <td>NaN</td>\n",
       "      <td>NaN</td>\n",
       "      <td>NaN</td>\n",
       "      <td>NaN</td>\n",
       "      <td>NaN</td>\n",
       "      <td>NaN</td>\n",
       "      <td>NaN</td>\n",
       "      <td>NaN</td>\n",
       "      <td>1.0</td>\n",
       "    </tr>\n",
       "    <tr>\n",
       "      <th>2</th>\n",
       "      <td>83008</td>\n",
       "      <td>TELEVISIONS HOME CINEMA</td>\n",
       "      <td>NaN</td>\n",
       "      <td>NaN</td>\n",
       "      <td>NaN</td>\n",
       "      <td>NaN</td>\n",
       "      <td>NaN</td>\n",
       "      <td>NaN</td>\n",
       "      <td>NaN</td>\n",
       "      <td>NaN</td>\n",
       "      <td>...</td>\n",
       "      <td>NaN</td>\n",
       "      <td>NaN</td>\n",
       "      <td>NaN</td>\n",
       "      <td>NaN</td>\n",
       "      <td>NaN</td>\n",
       "      <td>NaN</td>\n",
       "      <td>NaN</td>\n",
       "      <td>NaN</td>\n",
       "      <td>NaN</td>\n",
       "      <td>1.0</td>\n",
       "    </tr>\n",
       "    <tr>\n",
       "      <th>3</th>\n",
       "      <td>78712</td>\n",
       "      <td>COMPUTERS</td>\n",
       "      <td>COMPUTER PERIPHERALS ACCESSORIES</td>\n",
       "      <td>NaN</td>\n",
       "      <td>NaN</td>\n",
       "      <td>NaN</td>\n",
       "      <td>NaN</td>\n",
       "      <td>NaN</td>\n",
       "      <td>NaN</td>\n",
       "      <td>NaN</td>\n",
       "      <td>...</td>\n",
       "      <td>NaN</td>\n",
       "      <td>NaN</td>\n",
       "      <td>NaN</td>\n",
       "      <td>NaN</td>\n",
       "      <td>NaN</td>\n",
       "      <td>NaN</td>\n",
       "      <td>NaN</td>\n",
       "      <td>NaN</td>\n",
       "      <td>NaN</td>\n",
       "      <td>2.0</td>\n",
       "    </tr>\n",
       "    <tr>\n",
       "      <th>4</th>\n",
       "      <td>77846</td>\n",
       "      <td>TELEVISIONS HOME CINEMA</td>\n",
       "      <td>NaN</td>\n",
       "      <td>NaN</td>\n",
       "      <td>NaN</td>\n",
       "      <td>NaN</td>\n",
       "      <td>NaN</td>\n",
       "      <td>NaN</td>\n",
       "      <td>NaN</td>\n",
       "      <td>NaN</td>\n",
       "      <td>...</td>\n",
       "      <td>NaN</td>\n",
       "      <td>NaN</td>\n",
       "      <td>NaN</td>\n",
       "      <td>NaN</td>\n",
       "      <td>NaN</td>\n",
       "      <td>NaN</td>\n",
       "      <td>NaN</td>\n",
       "      <td>NaN</td>\n",
       "      <td>NaN</td>\n",
       "      <td>1.0</td>\n",
       "    </tr>\n",
       "  </tbody>\n",
       "</table>\n",
       "<p>5 rows × 146 columns</p>\n",
       "</div>"
      ],
      "text/plain": [
       "      ID                             item1                             item2  \\\n",
       "0  85517                         COMPUTERS                               NaN   \n",
       "1  51113  COMPUTER PERIPHERALS ACCESSORIES                               NaN   \n",
       "2  83008           TELEVISIONS HOME CINEMA                               NaN   \n",
       "3  78712                         COMPUTERS  COMPUTER PERIPHERALS ACCESSORIES   \n",
       "4  77846           TELEVISIONS HOME CINEMA                               NaN   \n",
       "\n",
       "  item3 item4 item5 item6 item7 item8 item9  ... Nbr_of_prod_purchas16  \\\n",
       "0   NaN   NaN   NaN   NaN   NaN   NaN   NaN  ...                   NaN   \n",
       "1   NaN   NaN   NaN   NaN   NaN   NaN   NaN  ...                   NaN   \n",
       "2   NaN   NaN   NaN   NaN   NaN   NaN   NaN  ...                   NaN   \n",
       "3   NaN   NaN   NaN   NaN   NaN   NaN   NaN  ...                   NaN   \n",
       "4   NaN   NaN   NaN   NaN   NaN   NaN   NaN  ...                   NaN   \n",
       "\n",
       "  Nbr_of_prod_purchas17 Nbr_of_prod_purchas18 Nbr_of_prod_purchas19  \\\n",
       "0                   NaN                   NaN                   NaN   \n",
       "1                   NaN                   NaN                   NaN   \n",
       "2                   NaN                   NaN                   NaN   \n",
       "3                   NaN                   NaN                   NaN   \n",
       "4                   NaN                   NaN                   NaN   \n",
       "\n",
       "  Nbr_of_prod_purchas20 Nbr_of_prod_purchas21 Nbr_of_prod_purchas22  \\\n",
       "0                   NaN                   NaN                   NaN   \n",
       "1                   NaN                   NaN                   NaN   \n",
       "2                   NaN                   NaN                   NaN   \n",
       "3                   NaN                   NaN                   NaN   \n",
       "4                   NaN                   NaN                   NaN   \n",
       "\n",
       "  Nbr_of_prod_purchas23 Nbr_of_prod_purchas24 Nb_of_items  \n",
       "0                   NaN                   NaN         1.0  \n",
       "1                   NaN                   NaN         1.0  \n",
       "2                   NaN                   NaN         1.0  \n",
       "3                   NaN                   NaN         2.0  \n",
       "4                   NaN                   NaN         1.0  \n",
       "\n",
       "[5 rows x 146 columns]"
      ]
     },
     "execution_count": 6,
     "metadata": {},
     "output_type": "execute_result"
    }
   ],
   "source": [
    "X_train_df.head()"
   ]
  },
  {
   "cell_type": "code",
   "execution_count": 7,
   "metadata": {},
   "outputs": [
    {
     "data": {
      "text/html": [
       "<div>\n",
       "<style scoped>\n",
       "    .dataframe tbody tr th:only-of-type {\n",
       "        vertical-align: middle;\n",
       "    }\n",
       "\n",
       "    .dataframe tbody tr th {\n",
       "        vertical-align: top;\n",
       "    }\n",
       "\n",
       "    .dataframe thead th {\n",
       "        text-align: right;\n",
       "    }\n",
       "</style>\n",
       "<table border=\"1\" class=\"dataframe\">\n",
       "  <thead>\n",
       "    <tr style=\"text-align: right;\">\n",
       "      <th></th>\n",
       "      <th>ID</th>\n",
       "      <th>cash_price1</th>\n",
       "      <th>cash_price2</th>\n",
       "      <th>cash_price3</th>\n",
       "      <th>cash_price4</th>\n",
       "      <th>cash_price5</th>\n",
       "      <th>cash_price6</th>\n",
       "      <th>cash_price7</th>\n",
       "      <th>cash_price8</th>\n",
       "      <th>cash_price9</th>\n",
       "      <th>...</th>\n",
       "      <th>Nbr_of_prod_purchas16</th>\n",
       "      <th>Nbr_of_prod_purchas17</th>\n",
       "      <th>Nbr_of_prod_purchas18</th>\n",
       "      <th>Nbr_of_prod_purchas19</th>\n",
       "      <th>Nbr_of_prod_purchas20</th>\n",
       "      <th>Nbr_of_prod_purchas21</th>\n",
       "      <th>Nbr_of_prod_purchas22</th>\n",
       "      <th>Nbr_of_prod_purchas23</th>\n",
       "      <th>Nbr_of_prod_purchas24</th>\n",
       "      <th>Nb_of_items</th>\n",
       "    </tr>\n",
       "  </thead>\n",
       "  <tbody>\n",
       "    <tr>\n",
       "      <th>count</th>\n",
       "      <td>92790.000000</td>\n",
       "      <td>92790.000000</td>\n",
       "      <td>44656.000000</td>\n",
       "      <td>12901.000000</td>\n",
       "      <td>4562.000000</td>\n",
       "      <td>2170.00000</td>\n",
       "      <td>1336.000000</td>\n",
       "      <td>946.000000</td>\n",
       "      <td>727.000000</td>\n",
       "      <td>568.000000</td>\n",
       "      <td>...</td>\n",
       "      <td>165.000000</td>\n",
       "      <td>142.000000</td>\n",
       "      <td>120.000000</td>\n",
       "      <td>103.000000</td>\n",
       "      <td>91.000000</td>\n",
       "      <td>77.000000</td>\n",
       "      <td>63.000000</td>\n",
       "      <td>50.000000</td>\n",
       "      <td>43.000000</td>\n",
       "      <td>92790.000000</td>\n",
       "    </tr>\n",
       "    <tr>\n",
       "      <th>mean</th>\n",
       "      <td>57968.969070</td>\n",
       "      <td>1093.907124</td>\n",
       "      <td>191.608071</td>\n",
       "      <td>193.334548</td>\n",
       "      <td>176.132398</td>\n",
       "      <td>195.73871</td>\n",
       "      <td>162.015719</td>\n",
       "      <td>144.598309</td>\n",
       "      <td>130.957359</td>\n",
       "      <td>132.609155</td>\n",
       "      <td>...</td>\n",
       "      <td>1.290909</td>\n",
       "      <td>1.436620</td>\n",
       "      <td>1.466667</td>\n",
       "      <td>1.388350</td>\n",
       "      <td>1.329670</td>\n",
       "      <td>1.220779</td>\n",
       "      <td>1.380952</td>\n",
       "      <td>1.160000</td>\n",
       "      <td>1.372093</td>\n",
       "      <td>1.764479</td>\n",
       "    </tr>\n",
       "    <tr>\n",
       "      <th>std</th>\n",
       "      <td>33487.595782</td>\n",
       "      <td>711.172270</td>\n",
       "      <td>392.665621</td>\n",
       "      <td>375.676640</td>\n",
       "      <td>321.354938</td>\n",
       "      <td>374.22739</td>\n",
       "      <td>292.077355</td>\n",
       "      <td>291.432858</td>\n",
       "      <td>257.730692</td>\n",
       "      <td>267.234057</td>\n",
       "      <td>...</td>\n",
       "      <td>0.749131</td>\n",
       "      <td>1.431484</td>\n",
       "      <td>1.810025</td>\n",
       "      <td>1.165122</td>\n",
       "      <td>0.869929</td>\n",
       "      <td>0.528737</td>\n",
       "      <td>0.923328</td>\n",
       "      <td>0.548095</td>\n",
       "      <td>1.113195</td>\n",
       "      <td>1.462264</td>\n",
       "    </tr>\n",
       "    <tr>\n",
       "      <th>min</th>\n",
       "      <td>0.000000</td>\n",
       "      <td>2.000000</td>\n",
       "      <td>0.000000</td>\n",
       "      <td>0.000000</td>\n",
       "      <td>0.000000</td>\n",
       "      <td>0.00000</td>\n",
       "      <td>0.000000</td>\n",
       "      <td>0.000000</td>\n",
       "      <td>0.000000</td>\n",
       "      <td>0.000000</td>\n",
       "      <td>...</td>\n",
       "      <td>1.000000</td>\n",
       "      <td>1.000000</td>\n",
       "      <td>1.000000</td>\n",
       "      <td>1.000000</td>\n",
       "      <td>1.000000</td>\n",
       "      <td>1.000000</td>\n",
       "      <td>1.000000</td>\n",
       "      <td>1.000000</td>\n",
       "      <td>1.000000</td>\n",
       "      <td>1.000000</td>\n",
       "    </tr>\n",
       "    <tr>\n",
       "      <th>25%</th>\n",
       "      <td>28901.250000</td>\n",
       "      <td>649.000000</td>\n",
       "      <td>7.000000</td>\n",
       "      <td>7.000000</td>\n",
       "      <td>10.000000</td>\n",
       "      <td>16.00000</td>\n",
       "      <td>15.000000</td>\n",
       "      <td>20.000000</td>\n",
       "      <td>16.000000</td>\n",
       "      <td>18.000000</td>\n",
       "      <td>...</td>\n",
       "      <td>1.000000</td>\n",
       "      <td>1.000000</td>\n",
       "      <td>1.000000</td>\n",
       "      <td>1.000000</td>\n",
       "      <td>1.000000</td>\n",
       "      <td>1.000000</td>\n",
       "      <td>1.000000</td>\n",
       "      <td>1.000000</td>\n",
       "      <td>1.000000</td>\n",
       "      <td>1.000000</td>\n",
       "    </tr>\n",
       "    <tr>\n",
       "      <th>50%</th>\n",
       "      <td>57961.500000</td>\n",
       "      <td>949.000000</td>\n",
       "      <td>40.000000</td>\n",
       "      <td>43.000000</td>\n",
       "      <td>48.000000</td>\n",
       "      <td>59.00000</td>\n",
       "      <td>50.000000</td>\n",
       "      <td>50.000000</td>\n",
       "      <td>45.000000</td>\n",
       "      <td>45.000000</td>\n",
       "      <td>...</td>\n",
       "      <td>1.000000</td>\n",
       "      <td>1.000000</td>\n",
       "      <td>1.000000</td>\n",
       "      <td>1.000000</td>\n",
       "      <td>1.000000</td>\n",
       "      <td>1.000000</td>\n",
       "      <td>1.000000</td>\n",
       "      <td>1.000000</td>\n",
       "      <td>1.000000</td>\n",
       "      <td>1.000000</td>\n",
       "    </tr>\n",
       "    <tr>\n",
       "      <th>75%</th>\n",
       "      <td>86985.750000</td>\n",
       "      <td>1349.000000</td>\n",
       "      <td>139.000000</td>\n",
       "      <td>189.000000</td>\n",
       "      <td>189.000000</td>\n",
       "      <td>199.00000</td>\n",
       "      <td>179.250000</td>\n",
       "      <td>140.000000</td>\n",
       "      <td>120.000000</td>\n",
       "      <td>129.250000</td>\n",
       "      <td>...</td>\n",
       "      <td>1.000000</td>\n",
       "      <td>1.000000</td>\n",
       "      <td>1.000000</td>\n",
       "      <td>1.000000</td>\n",
       "      <td>1.000000</td>\n",
       "      <td>1.000000</td>\n",
       "      <td>1.500000</td>\n",
       "      <td>1.000000</td>\n",
       "      <td>1.000000</td>\n",
       "      <td>2.000000</td>\n",
       "    </tr>\n",
       "    <tr>\n",
       "      <th>max</th>\n",
       "      <td>115985.000000</td>\n",
       "      <td>21995.000000</td>\n",
       "      <td>6499.000000</td>\n",
       "      <td>5999.000000</td>\n",
       "      <td>5198.000000</td>\n",
       "      <td>4249.00000</td>\n",
       "      <td>2997.000000</td>\n",
       "      <td>4198.000000</td>\n",
       "      <td>2999.000000</td>\n",
       "      <td>2399.000000</td>\n",
       "      <td>...</td>\n",
       "      <td>6.000000</td>\n",
       "      <td>12.000000</td>\n",
       "      <td>16.000000</td>\n",
       "      <td>7.000000</td>\n",
       "      <td>7.000000</td>\n",
       "      <td>4.000000</td>\n",
       "      <td>7.000000</td>\n",
       "      <td>4.000000</td>\n",
       "      <td>8.000000</td>\n",
       "      <td>60.000000</td>\n",
       "    </tr>\n",
       "  </tbody>\n",
       "</table>\n",
       "<p>8 rows × 50 columns</p>\n",
       "</div>"
      ],
      "text/plain": [
       "                  ID   cash_price1   cash_price2   cash_price3  cash_price4  \\\n",
       "count   92790.000000  92790.000000  44656.000000  12901.000000  4562.000000   \n",
       "mean    57968.969070   1093.907124    191.608071    193.334548   176.132398   \n",
       "std     33487.595782    711.172270    392.665621    375.676640   321.354938   \n",
       "min         0.000000      2.000000      0.000000      0.000000     0.000000   \n",
       "25%     28901.250000    649.000000      7.000000      7.000000    10.000000   \n",
       "50%     57961.500000    949.000000     40.000000     43.000000    48.000000   \n",
       "75%     86985.750000   1349.000000    139.000000    189.000000   189.000000   \n",
       "max    115985.000000  21995.000000   6499.000000   5999.000000  5198.000000   \n",
       "\n",
       "       cash_price5  cash_price6  cash_price7  cash_price8  cash_price9  ...  \\\n",
       "count   2170.00000  1336.000000   946.000000   727.000000   568.000000  ...   \n",
       "mean     195.73871   162.015719   144.598309   130.957359   132.609155  ...   \n",
       "std      374.22739   292.077355   291.432858   257.730692   267.234057  ...   \n",
       "min        0.00000     0.000000     0.000000     0.000000     0.000000  ...   \n",
       "25%       16.00000    15.000000    20.000000    16.000000    18.000000  ...   \n",
       "50%       59.00000    50.000000    50.000000    45.000000    45.000000  ...   \n",
       "75%      199.00000   179.250000   140.000000   120.000000   129.250000  ...   \n",
       "max     4249.00000  2997.000000  4198.000000  2999.000000  2399.000000  ...   \n",
       "\n",
       "       Nbr_of_prod_purchas16  Nbr_of_prod_purchas17  Nbr_of_prod_purchas18  \\\n",
       "count             165.000000             142.000000             120.000000   \n",
       "mean                1.290909               1.436620               1.466667   \n",
       "std                 0.749131               1.431484               1.810025   \n",
       "min                 1.000000               1.000000               1.000000   \n",
       "25%                 1.000000               1.000000               1.000000   \n",
       "50%                 1.000000               1.000000               1.000000   \n",
       "75%                 1.000000               1.000000               1.000000   \n",
       "max                 6.000000              12.000000              16.000000   \n",
       "\n",
       "       Nbr_of_prod_purchas19  Nbr_of_prod_purchas20  Nbr_of_prod_purchas21  \\\n",
       "count             103.000000              91.000000              77.000000   \n",
       "mean                1.388350               1.329670               1.220779   \n",
       "std                 1.165122               0.869929               0.528737   \n",
       "min                 1.000000               1.000000               1.000000   \n",
       "25%                 1.000000               1.000000               1.000000   \n",
       "50%                 1.000000               1.000000               1.000000   \n",
       "75%                 1.000000               1.000000               1.000000   \n",
       "max                 7.000000               7.000000               4.000000   \n",
       "\n",
       "       Nbr_of_prod_purchas22  Nbr_of_prod_purchas23  Nbr_of_prod_purchas24  \\\n",
       "count              63.000000              50.000000              43.000000   \n",
       "mean                1.380952               1.160000               1.372093   \n",
       "std                 0.923328               0.548095               1.113195   \n",
       "min                 1.000000               1.000000               1.000000   \n",
       "25%                 1.000000               1.000000               1.000000   \n",
       "50%                 1.000000               1.000000               1.000000   \n",
       "75%                 1.500000               1.000000               1.000000   \n",
       "max                 7.000000               4.000000               8.000000   \n",
       "\n",
       "        Nb_of_items  \n",
       "count  92790.000000  \n",
       "mean       1.764479  \n",
       "std        1.462264  \n",
       "min        1.000000  \n",
       "25%        1.000000  \n",
       "50%        1.000000  \n",
       "75%        2.000000  \n",
       "max       60.000000  \n",
       "\n",
       "[8 rows x 50 columns]"
      ]
     },
     "execution_count": 7,
     "metadata": {},
     "output_type": "execute_result"
    }
   ],
   "source": [
    "X_train_df.describe()"
   ]
  },
  {
   "cell_type": "markdown",
   "metadata": {},
   "source": [
    "## 1.2 Étude de la parcimonie des données\n"
   ]
  },
  {
   "cell_type": "code",
   "execution_count": 9,
   "metadata": {},
   "outputs": [
    {
     "name": "stdout",
     "output_type": "stream",
     "text": [
      "91.41% des données sont nulles.\n"
     ]
    }
   ],
   "source": [
    "def sparse_coeff(X: pd.DataFrame) -> float:\n",
    "    nb_sparse = X_train_df.isnull().sum().sum()\n",
    "    nb_total = X_train_df.shape[0] * X_train_df.shape[1]\n",
    "    return nb_sparse / nb_total\n",
    "\n",
    "\n",
    "print(f\"{sparse_coeff(X_train_df):.2%} des données sont nulles.\")"
   ]
  },
  {
   "cell_type": "code",
   "execution_count": 10,
   "metadata": {},
   "outputs": [
    {
     "data": {
      "text/plain": [
       "Text(0.5, 1.0, 'Répartition des items non nuls')"
      ]
     },
     "execution_count": 10,
     "metadata": {},
     "output_type": "execute_result"
    },
    {
     "data": {
      "image/png": "[encoded data removed]",
      "text/plain": [
       "<Figure size 640x480 with 1 Axes>"
      ]
     },
     "metadata": {},
     "output_type": "display_data"
    }
   ],
   "source": [
    "X_train_df.notnull().sum()[[f\"item{i}\" for i in range(1, 25)]].plot.pie(\n",
    "    autopct=\"%1.0f%%\",\n",
    ")\n",
    "plt.xticks(rotation=45)\n",
    "plt.title(\"Répartition des items non nuls\")"
   ]
  },
  {
   "cell_type": "markdown",
   "metadata": {},
   "source": [
    "92% des commandes ont moins de 3 items.\n"
   ]
  },
  {
   "cell_type": "markdown",
   "metadata": {},
   "source": [
    "## 1.3 Étude des tendances\n"
   ]
  },
  {
   "cell_type": "code",
   "execution_count": 11,
   "metadata": {},
   "outputs": [
    {
     "data": {
      "text/plain": [
       "(array([ 0,  1,  2,  3,  4,  5,  6,  7,  8,  9, 10, 11, 12, 13, 14, 15, 16,\n",
       "        17, 18, 19]),\n",
       " [Text(0, 0, 'item5'),\n",
       "  Text(1, 0, 'item6'),\n",
       "  Text(2, 0, 'item7'),\n",
       "  Text(3, 0, 'item8'),\n",
       "  Text(4, 0, 'item9'),\n",
       "  Text(5, 0, 'item10'),\n",
       "  Text(6, 0, 'item11'),\n",
       "  Text(7, 0, 'item12'),\n",
       "  Text(8, 0, 'item13'),\n",
       "  Text(9, 0, 'item14'),\n",
       "  Text(10, 0, 'item15'),\n",
       "  Text(11, 0, 'item16'),\n",
       "  Text(12, 0, 'item17'),\n",
       "  Text(13, 0, 'item18'),\n",
       "  Text(14, 0, 'item19'),\n",
       "  Text(15, 0, 'item20'),\n",
       "  Text(16, 0, 'item21'),\n",
       "  Text(17, 0, 'item22'),\n",
       "  Text(18, 0, 'item23'),\n",
       "  Text(19, 0, 'item24')])"
      ]
     },
     "execution_count": 11,
     "metadata": {},
     "output_type": "execute_result"
    },
    {
     "data": {
      "image/png": "[encoded data removed]",
      "text/plain": [
       "<Figure size 640x480 with 1 Axes>"
      ]
     },
     "metadata": {},
     "output_type": "display_data"
    }
   ],
   "source": [
    "X_train_df[y_train_df == 0].notnull().sum()[\n",
    "    [f\"item{i}\" for i in range(5, 25)]\n",
    "].plot.bar()\n",
    "plt.ylabel(\"Nombre de valeurs non nulles\")\n",
    "plt.xlabel(\"Colonne\")\n",
    "plt.xticks(rotation=45)"
   ]
  },
  {
   "cell_type": "code",
   "execution_count": 12,
   "metadata": {},
   "outputs": [
    {
     "data": {
      "text/plain": [
       "(array([ 0,  1,  2,  3,  4,  5,  6,  7,  8,  9, 10, 11, 12, 13, 14, 15, 16,\n",
       "        17, 18, 19]),\n",
       " [Text(0, 0, 'item5'),\n",
       "  Text(1, 0, 'item6'),\n",
       "  Text(2, 0, 'item7'),\n",
       "  Text(3, 0, 'item8'),\n",
       "  Text(4, 0, 'item9'),\n",
       "  Text(5, 0, 'item10'),\n",
       "  Text(6, 0, 'item11'),\n",
       "  Text(7, 0, 'item12'),\n",
       "  Text(8, 0, 'item13'),\n",
       "  Text(9, 0, 'item14'),\n",
       "  Text(10, 0, 'item15'),\n",
       "  Text(11, 0, 'item16'),\n",
       "  Text(12, 0, 'item17'),\n",
       "  Text(13, 0, 'item18'),\n",
       "  Text(14, 0, 'item19'),\n",
       "  Text(15, 0, 'item20'),\n",
       "  Text(16, 0, 'item21'),\n",
       "  Text(17, 0, 'item22'),\n",
       "  Text(18, 0, 'item23'),\n",
       "  Text(19, 0, 'item24')])"
      ]
     },
     "execution_count": 12,
     "metadata": {},
     "output_type": "execute_result"
    },
    {
     "data": {
      "image/png": "[encoded data removed]",
      "text/plain": [
       "<Figure size 640x480 with 1 Axes>"
      ]
     },
     "metadata": {},
     "output_type": "display_data"
    }
   ],
   "source": [
    "X_train_df[y_train_df == 1].notnull().sum()[\n",
    "    [f\"item{i}\" for i in range(5, 25)]\n",
    "].plot.bar()\n",
    "plt.ylabel(\"Nombre de valeurs non nulles\")\n",
    "plt.xlabel(\"Colonne\")\n",
    "plt.xticks(rotation=45)"
   ]
  },
  {
   "cell_type": "markdown",
   "metadata": {},
   "source": [
    "En regardant pour les colonnes items > 5, fraude+non fraude et fraude, on n'observe pas de tendance sur le nombre d'items par panier entre les commandes frauduleuses et les non frauduleuses.\n",
    "\n",
    "---\n"
   ]
  },
  {
   "cell_type": "code",
   "execution_count": 13,
   "metadata": {},
   "outputs": [
    {
     "data": {
      "text/plain": [
       "(array([-5.,  0.,  5., 10., 15., 20., 25., 30.]),\n",
       " [Text(-5.0, 0, '−5'),\n",
       "  Text(0.0, 0, '0'),\n",
       "  Text(5.0, 0, '5'),\n",
       "  Text(10.0, 0, '10'),\n",
       "  Text(15.0, 0, '15'),\n",
       "  Text(20.0, 0, '20'),\n",
       "  Text(25.0, 0, '25'),\n",
       "  Text(30.0, 0, '30')])"
      ]
     },
     "execution_count": 13,
     "metadata": {},
     "output_type": "execute_result"
    },
    {
     "data": {
      "image/png": "[encoded data removed]",
      "text/plain": [
       "<Figure size 640x480 with 1 Axes>"
      ]
     },
     "metadata": {},
     "output_type": "display_data"
    }
   ],
   "source": [
    "X_train_df[(y_train_df == 0) & (X_train_df[\"Nb_of_items\"] < 25)][\n",
    "    \"Nb_of_items\"\n",
    "].plot.hist(bins=25)\n",
    "plt.ylabel(\"Nombre de commandes\")\n",
    "plt.xlabel(\"Number_of_items\")\n",
    "plt.xticks(rotation=45)"
   ]
  },
  {
   "cell_type": "code",
   "execution_count": 14,
   "metadata": {},
   "outputs": [
    {
     "data": {
      "text/plain": [
       "(array([-5.,  0.,  5., 10., 15., 20., 25., 30.]),\n",
       " [Text(-5.0, 0, '−5'),\n",
       "  Text(0.0, 0, '0'),\n",
       "  Text(5.0, 0, '5'),\n",
       "  Text(10.0, 0, '10'),\n",
       "  Text(15.0, 0, '15'),\n",
       "  Text(20.0, 0, '20'),\n",
       "  Text(25.0, 0, '25'),\n",
       "  Text(30.0, 0, '30')])"
      ]
     },
     "execution_count": 14,
     "metadata": {},
     "output_type": "execute_result"
    },
    {
     "data": {
      "image/png": "[encoded data removed]",
      "text/plain": [
       "<Figure size 640x480 with 1 Axes>"
      ]
     },
     "metadata": {},
     "output_type": "display_data"
    }
   ],
   "source": [
    "X_train_df[y_train_df == 1][\"Nb_of_items\"].plot.hist(bins=25)\n",
    "plt.ylabel(\"Nombre de commandes\")\n",
    "plt.xlabel(\"Number_of_items\")\n",
    "plt.xticks(rotation=45)"
   ]
  },
  {
   "cell_type": "markdown",
   "metadata": {},
   "source": [
    "Là encore, on ne distingue pas de tendance significatives sur la distribution du nombre d'items par panier.\n",
    "\n",
    "---\n"
   ]
  },
  {
   "cell_type": "code",
   "execution_count": 15,
   "metadata": {},
   "outputs": [
    {
     "data": {
      "image/png": "[encoded data removed]",
      "text/plain": [
       "<Figure size 640x480 with 1 Axes>"
      ]
     },
     "metadata": {},
     "output_type": "display_data"
    }
   ],
   "source": [
    "def total_price(X: pd.DataFrame) -> pd.Series:\n",
    "    return X[[f\"cash_price{i}\" for i in range(1, 25)]].sum(axis=1)\n",
    "\n",
    "\n",
    "def plot_total_price_hist(X: pd.DataFrame, y: pd.DataFrame, fraud: bool) -> None:\n",
    "    if fraud:\n",
    "        total_price_df = total_price(X[(total_price(X) < 10000) & (y == 1)])\n",
    "    else:\n",
    "        total_price_df = total_price(X[(total_price(X) < 10000) & (y == 0)])\n",
    "    total_price_df.plot.hist(bins=25)\n",
    "    mean = total_price_df.mean()\n",
    "    std = total_price_df.std()\n",
    "    plt.xlim(0, 10000)\n",
    "    plt.axvline(\n",
    "        x=mean,\n",
    "        color=\"red\",\n",
    "    )\n",
    "    plt.text(mean, 0, f\"Moyenne = {mean:.0f}\", rotation=90)\n",
    "    plt.axvline(\n",
    "        x=std,\n",
    "        color=\"green\",\n",
    "    )\n",
    "    plt.text(std, 0, f\"Ecart type = {std:.0f}\", rotation=90)\n",
    "    plt.ylabel(\"Nombre de commandes\")\n",
    "    plt.xlabel(\"Prix total de la commande\")\n",
    "\n",
    "\n",
    "plot_total_price_hist(X_train_df, y_train_df, fraud=False)"
   ]
  },
  {
   "cell_type": "code",
   "execution_count": 16,
   "metadata": {},
   "outputs": [
    {
     "data": {
      "image/png": "[encoded data removed]",
      "text/plain": [
       "<Figure size 640x480 with 1 Axes>"
      ]
     },
     "metadata": {},
     "output_type": "display_data"
    }
   ],
   "source": [
    "plot_total_price_hist(X_train_df, y_train_df, fraud=True)"
   ]
  },
  {
   "cell_type": "markdown",
   "metadata": {},
   "source": [
    "On observe une légère augmentation de la moyenne et de l'écart type du prix total des commandes pour les fraudes. Nous allons essayer d'utiliser ces informations dans nos features.\n"
   ]
  },
  {
   "cell_type": "markdown",
   "metadata": {},
   "source": [
    "## 1.4 Étude de la distribution des classes\n"
   ]
  },
  {
   "cell_type": "code",
   "execution_count": 17,
   "metadata": {},
   "outputs": [
    {
     "data": {
      "text/plain": [
       "Text(0, 0.5, '')"
      ]
     },
     "execution_count": 17,
     "metadata": {},
     "output_type": "execute_result"
    },
    {
     "data": {
      "image/png": "[encoded data removed]",
      "text/plain": [
       "<Figure size 640x480 with 1 Axes>"
      ]
     },
     "metadata": {},
     "output_type": "display_data"
    }
   ],
   "source": [
    "y_train_df.value_counts().plot.pie(\n",
    "    autopct=\"%1.0f%%\",\n",
    ")\n",
    "plt.legend([\"Non frauduleux\", \"Frauduleux\"])\n",
    "plt.ylabel(\"\")"
   ]
  },
  {
   "cell_type": "markdown",
   "metadata": {},
   "source": [
    "C'est un jeux de données de détection de fraudes, donc la distribution frauduleux/non frauduleux est très inégale.\n"
   ]
  },
  {
   "cell_type": "markdown",
   "metadata": {},
   "source": [
    "# 2. Feature engineering\n"
   ]
  },
  {
   "cell_type": "markdown",
   "metadata": {},
   "source": [
    "## 2.1 Création de nouvelles features\n"
   ]
  },
  {
   "cell_type": "code",
   "execution_count": 28,
   "metadata": {},
   "outputs": [],
   "source": [
    "class FeaturesExtractor(BaseEstimator, TransformerMixin):\n",
    "    def fit(self, X, y=None):\n",
    "        return self\n",
    "\n",
    "    def transform(self, X: pd.DataFrame, y=None):\n",
    "        df = X\n",
    "        # Create a column with the total price of the purchase.\n",
    "        df[\"total_price\"] = df[[f\"cash_price{i}\" for i in range(1, 25)]].sum(axis=1)\n",
    "        # Create a column with the average price of the items in the purchase.\n",
    "        df[\"avg_item_price\"] = df[\"total_price\"] / df[\"Nb_of_items\"]\n",
    "        # Create a column with the maximum price of the items in the purchase.\n",
    "        df[\"max_item_price\"] = df[[f\"cash_price{i}\" for i in range(1, 25)]].max(axis=1)\n",
    "        # Create a column with the minimum price of the items in the purchase.\n",
    "        df[\"min_item_price\"] = df[[f\"cash_price{i}\" for i in range(1, 25)]].min(axis=1)\n",
    "        # Create a column with the variance of the prices of the items in the purchase.\n",
    "        df[\"price_variance\"] = df[[f\"cash_price{i}\" for i in range(1, 25)]].var(axis=1)\n",
    "        # Create a column with the number of products in the purchase.\n",
    "        df[\"product_count\"] = df[[f\"Nbr_of_prod_purchas{i}\" for i in range(1, 25)]].sum(\n",
    "            axis=1\n",
    "        )\n",
    "        # Create a column with the number of unique manufacturers in the purchase.\n",
    "        df[\"nb_unique_makes\"] = df[[f\"make{i}\" for i in range(1, 25)]].nunique(axis=1)\n",
    "        # Create a column with the number of unique items in the purchase.\n",
    "        df[\"nb_unique_models\"] = df[[f\"model{i}\" for i in range(1, 25)]].nunique(axis=1)\n",
    "        # Create a column of the ratio of items to products in the purchase.\n",
    "        df[\"item_to_product_ratio\"] = df[\"Nb_of_items\"] / df[\"product_count\"]\n",
    "        # Create a column of the most common item in the purchase.\n",
    "        df[\"most_common_item\"] = df[\n",
    "            [f\"Nbr_of_prod_purchas{i}\" for i in range(1, 25)]\n",
    "        ].idxmax(axis=1)\n",
    "        most_common_item = []\n",
    "        for _, row in df.iterrows():\n",
    "            match = re.search(r\"(\\d+)\", row[\"most_common_item\"])\n",
    "            item_number = int(match.group(1))\n",
    "            most_common_item.append(row[f\"item{item_number}\"])\n",
    "        df[\"most_common_item\"] = most_common_item\n",
    "        df[\"most_common_item\"] = df[\"most_common_item\"].astype(str)\n",
    "\n",
    "        # For each goods_code, count the number of times it appears in the dataset.\n",
    "        all_goods = []\n",
    "        for _, row in df.iterrows():\n",
    "            for i in range(1, 25):\n",
    "                all_goods.append(row[f\"goods_code{i}\"])\n",
    "        goods_counter = Counter(all_goods)\n",
    "        for index, row in df.iterrows():\n",
    "            for i in range(1, 25):\n",
    "                if isinstance(row[f\"goods_code{i}\"], str):\n",
    "                    df.at[index, f\"goods_code{i}\"] = goods_counter[\n",
    "                        row[f\"goods_code{i}\"]\n",
    "                    ]\n",
    "                else:\n",
    "                    df.at[index, f\"goods_code{i}\"] = 0\n",
    "        df[[\"goods_code\" + str(i) for i in range(1, 25)]] = df[\n",
    "            [\"goods_code\" + str(i) for i in range(1, 25)]\n",
    "        ].astype(int)\n",
    "\n",
    "        # Identify the columns to apply RNN tokenization\n",
    "        categorical_columns = [\"make\", \"item\", \"model\"]  # Add more columns as needed\n",
    "        categorical_columns = [\n",
    "            col + str(i) for col in categorical_columns for i in range(1, 25)\n",
    "        ]\n",
    "        categorical_columns.append(\"most_common_item\")\n",
    "\n",
    "        # Identify the categorical and numerical columns\n",
    "        numerical_columns = [\n",
    "            col for col in df.columns if col not in set(categorical_columns)\n",
    "        ]\n",
    "\n",
    "        # Clean data\n",
    "        for col in categorical_columns:\n",
    "            df[col] = df[col].fillna(\"\")\n",
    "        for col in numerical_columns:\n",
    "            df[col] = df[col].fillna(0)\n",
    "\n",
    "        return df"
   ]
  },
  {
   "cell_type": "markdown",
   "metadata": {},
   "source": [
    "## 2.2 Transformer Word2Vec\n"
   ]
  },
  {
   "cell_type": "code",
   "execution_count": 20,
   "metadata": {},
   "outputs": [],
   "source": [
    "class Word2Vec(BaseEstimator, TransformerMixin):\n",
    "    def __init__(self, num_words=None, **kwargs):\n",
    "        self.num_words = num_words\n",
    "        self.tokenizer = Tokenizer(num_words=num_words, **kwargs)\n",
    "\n",
    "    def fit(self, X, y=None):\n",
    "        self.Word2 = api.load(\"word2vec-google-news-300\")\n",
    "        return self\n",
    "\n",
    "    def transform(self, X, y=None):\n",
    "        x = np.array(X.values)\n",
    "        for i in range(len(x)):\n",
    "            for j in range(len(x[i])):\n",
    "                tokens = x[i][j].split()\n",
    "                embeddings = [\n",
    "                    self.Word2[token]\n",
    "                    for token in tokens\n",
    "                    if token in self.Word2.key_to_index\n",
    "                ]\n",
    "                if len(embeddings) > 0:\n",
    "                    mean = np.mean(embeddings)\n",
    "                else:\n",
    "                    mean = 0\n",
    "                x[i][j] = mean\n",
    "        return x\n",
    "\n",
    "    def get_params(self, deep=True):\n",
    "        return {\"num_words\": self.num_words}"
   ]
  },
  {
   "cell_type": "markdown",
   "metadata": {},
   "source": [
    "## 2.3 Définition de la pipeline\n"
   ]
  },
  {
   "cell_type": "code",
   "execution_count": 37,
   "metadata": {},
   "outputs": [],
   "source": [
    "def get_column_types(X: pd.DataFrame) -> Tuple[List[str], List[str]]:\n",
    "    text_columns = [\"make\", \"item\", \"model\"]\n",
    "    text_columns = [f\"{col}{i}\" for col in text_columns for i in range(1, 25)]\n",
    "    text_columns.append(\"most_common_item\")\n",
    "    num_columns = [col for col in X.columns if col not in set(text_columns)]\n",
    "\n",
    "    return text_columns, num_columns\n",
    "\n",
    "\n",
    "def generate_static_pipeline(X: pd.DataFrame) -> Pipeline:\n",
    "    text_columns, _ = get_column_types(X)\n",
    "\n",
    "    preprocessor = ColumnTransformer(\n",
    "        transformers=[\n",
    "            (\"column_dropper\", \"drop\", [\"ID\"]),\n",
    "            (\"cat_pipeline\", Word2Vec(), text_columns),\n",
    "        ],\n",
    "        remainder=\"passthrough\",\n",
    "    )\n",
    "\n",
    "    return Pipeline(\n",
    "        steps=[\n",
    "            (\"features_extract\", FeaturesExtractor()),\n",
    "            (\"preprocess_static\", preprocessor),\n",
    "        ]\n",
    "    )"
   ]
  },
  {
   "cell_type": "markdown",
   "metadata": {},
   "source": [
    "## 2.4 Étude de la corrélation des données\n"
   ]
  },
  {
   "cell_type": "code",
   "execution_count": 42,
   "metadata": {},
   "outputs": [
    {
     "name": "stderr",
     "output_type": "stream",
     "text": [
      "INFO:gensim.models.keyedvectors:loading projection weights from /Users/charles/gensim-data/word2vec-google-news-300/word2vec-google-news-300.gz\n",
      "INFO:gensim.utils:KeyedVectors lifecycle event {'msg': 'loaded (3000000, 300) matrix of type float32 from /Users/charles/gensim-data/word2vec-google-news-300/word2vec-google-news-300.gz', 'binary': True, 'encoding': 'utf8', 'datetime': '2023-11-23T12:05:56.215365', 'gensim': '4.3.0', 'python': '3.10.13 (main, Sep 11 2023, 08:24:56) [Clang 14.0.6 ]', 'platform': 'macOS-14.0-arm64-arm-64bit', 'event': 'load_word2vec_format'}\n"
     ]
    }
   ],
   "source": [
    "def label_corr(X: np.ndarray, y: pd.Series) -> pd.DataFrame:\n",
    "    columns = (\n",
    "        [f\"item{i}\" for i in range(1, 25)]\n",
    "        + [f\"cash_price{i}\" for i in range(1, 25)]\n",
    "        + [f\"make{i}\" for i in range(1, 25)]\n",
    "        + [f\"model{i}\" for i in range(1, 25)]\n",
    "        + [f\"goods_code{i}\" for i in range(1, 25)]\n",
    "        + [f\"Nbr_of_prod_purchas{i}\" for i in range(1, 25)]\n",
    "        + [\n",
    "            \"Nb_of_items\",\n",
    "            \"total_price\",\n",
    "            \"avg_item_price\",\n",
    "            \"max_item_price\",\n",
    "            \"min_item_price\",\n",
    "            \"price_variance\",\n",
    "            \"product_count\",\n",
    "            \"nb_unique_makes\",\n",
    "            \"nb_unique_models\",\n",
    "            \"item_to_product_ratio\",\n",
    "            \"most_common_item\",\n",
    "        ]\n",
    "    )\n",
    "    df = pd.DataFrame(\n",
    "        X,\n",
    "        columns=columns,\n",
    "    )\n",
    "    df[\"fraud_flag\"] = y\n",
    "    return df.corr()[y.name].abs().sort_values(ascending=False)\n",
    "\n",
    "\n",
    "label_corr(\n",
    "    generate_static_pipeline(X_train_df).fit_transform(X_train_df, y_train_df),\n",
    "    y_train_df,\n",
    ").head(15)"
   ]
  },
  {
   "cell_type": "markdown",
   "metadata": {},
   "source": [
    "# 3. Entraînement du modèle\n"
   ]
  },
  {
   "cell_type": "markdown",
   "metadata": {},
   "source": [
    "## 3.1 Tuning des hyperparamètres\n"
   ]
  },
  {
   "cell_type": "code",
   "execution_count": 53,
   "metadata": {},
   "outputs": [],
   "source": [
    "grid = GridSearchCV(\n",
    "    RandomForestClassifier(random_state=0),\n",
    "    param_grid={\n",
    "        \"bootstrap\": [True],\n",
    "    },\n",
    "    scoring=\"average_precision\",\n",
    "    cv=StratifiedShuffleSplit(n_splits=1, test_size=0.2, random_state=0),\n",
    "    n_jobs=-1,\n",
    "    verbose=True,\n",
    ")"
   ]
  },
  {
   "cell_type": "markdown",
   "metadata": {},
   "source": [
    "## 3.2 Split des données\n"
   ]
  },
  {
   "cell_type": "code",
   "execution_count": 54,
   "metadata": {},
   "outputs": [
    {
     "name": "stdout",
     "output_type": "stream",
     "text": [
      "1.42122% de fraudes dans le train set.\n",
      "1.42257% de fraudes dans le test set.\n"
     ]
    }
   ],
   "source": [
    "X_train, X_test, y_train, y_test = train_test_split(\n",
    "    X_train_df, y_train_df, test_size=0.2, stratify=y_train_df, random_state=0\n",
    ")\n",
    "print(f\"{y_train.value_counts()[1] / len(y_train):.5%} de fraudes dans le train set.\")\n",
    "print(f\"{y_test.value_counts()[1] / len(y_test):.5%} de fraudes dans le test set.\")"
   ]
  },
  {
   "cell_type": "markdown",
   "metadata": {},
   "source": [
    "## 3.3 Entraînement du modèle\n"
   ]
  },
  {
   "cell_type": "code",
   "execution_count": 55,
   "metadata": {},
   "outputs": [
    {
     "name": "stderr",
     "output_type": "stream",
     "text": [
      "INFO:gensim.models.keyedvectors:loading projection weights from /Users/charles/gensim-data/word2vec-google-news-300/word2vec-google-news-300.gz\n",
      "INFO:gensim.utils:KeyedVectors lifecycle event {'msg': 'loaded (3000000, 300) matrix of type float32 from /Users/charles/gensim-data/word2vec-google-news-300/word2vec-google-news-300.gz', 'binary': True, 'encoding': 'utf8', 'datetime': '2023-11-23T12:09:31.039460', 'gensim': '4.3.0', 'python': '3.10.13 (main, Sep 11 2023, 08:24:56) [Clang 14.0.6 ]', 'platform': 'macOS-14.0-arm64-arm-64bit', 'event': 'load_word2vec_format'}\n"
     ]
    },
    {
     "name": "stdout",
     "output_type": "stream",
     "text": [
      "Fitting 1 folds for each of 1 candidates, totalling 1 fits\n"
     ]
    },
    {
     "data": {
      "text/html": [
       "<style>#sk-container-id-1 {color: black;}#sk-container-id-1 pre{padding: 0;}#sk-container-id-1 div.sk-toggleable {background-color: white;}#sk-container-id-1 label.sk-toggleable__label {cursor: pointer;display: block;width: 100%;margin-bottom: 0;padding: 0.3em;box-sizing: border-box;text-align: center;}#sk-container-id-1 label.sk-toggleable__label-arrow:before {content: \"▸\";float: left;margin-right: 0.25em;color: #696969;}#sk-container-id-1 label.sk-toggleable__label-arrow:hover:before {color: black;}#sk-container-id-1 div.sk-estimator:hover label.sk-toggleable__label-arrow:before {color: black;}#sk-container-id-1 div.sk-toggleable__content {max-height: 0;max-width: 0;overflow: hidden;text-align: left;background-color: #f0f8ff;}#sk-container-id-1 div.sk-toggleable__content pre {margin: 0.2em;color: black;border-radius: 0.25em;background-color: #f0f8ff;}#sk-container-id-1 input.sk-toggleable__control:checked~div.sk-toggleable__content {max-height: 200px;max-width: 100%;overflow: auto;}#sk-container-id-1 input.sk-toggleable__control:checked~label.sk-toggleable__label-arrow:before {content: \"▾\";}#sk-container-id-1 div.sk-estimator input.sk-toggleable__control:checked~label.sk-toggleable__label {background-color: #d4ebff;}#sk-container-id-1 div.sk-label input.sk-toggleable__control:checked~label.sk-toggleable__label {background-color: #d4ebff;}#sk-container-id-1 input.sk-hidden--visually {border: 0;clip: rect(1px 1px 1px 1px);clip: rect(1px, 1px, 1px, 1px);height: 1px;margin: -1px;overflow: hidden;padding: 0;position: absolute;width: 1px;}#sk-container-id-1 div.sk-estimator {font-family: monospace;background-color: #f0f8ff;border: 1px dotted black;border-radius: 0.25em;box-sizing: border-box;margin-bottom: 0.5em;}#sk-container-id-1 div.sk-estimator:hover {background-color: #d4ebff;}#sk-container-id-1 div.sk-parallel-item::after {content: \"\";width: 100%;border-bottom: 1px solid gray;flex-grow: 1;}#sk-container-id-1 div.sk-label:hover label.sk-toggleable__label {background-color: #d4ebff;}#sk-container-id-1 div.sk-serial::before {content: \"\";position: absolute;border-left: 1px solid gray;box-sizing: border-box;top: 0;bottom: 0;left: 50%;z-index: 0;}#sk-container-id-1 div.sk-serial {display: flex;flex-direction: column;align-items: center;background-color: white;padding-right: 0.2em;padding-left: 0.2em;position: relative;}#sk-container-id-1 div.sk-item {position: relative;z-index: 1;}#sk-container-id-1 div.sk-parallel {display: flex;align-items: stretch;justify-content: center;background-color: white;position: relative;}#sk-container-id-1 div.sk-item::before, #sk-container-id-1 div.sk-parallel-item::before {content: \"\";position: absolute;border-left: 1px solid gray;box-sizing: border-box;top: 0;bottom: 0;left: 50%;z-index: -1;}#sk-container-id-1 div.sk-parallel-item {display: flex;flex-direction: column;z-index: 1;position: relative;background-color: white;}#sk-container-id-1 div.sk-parallel-item:first-child::after {align-self: flex-end;width: 50%;}#sk-container-id-1 div.sk-parallel-item:last-child::after {align-self: flex-start;width: 50%;}#sk-container-id-1 div.sk-parallel-item:only-child::after {width: 0;}#sk-container-id-1 div.sk-dashed-wrapped {border: 1px dashed gray;margin: 0 0.4em 0.5em 0.4em;box-sizing: border-box;padding-bottom: 0.4em;background-color: white;}#sk-container-id-1 div.sk-label label {font-family: monospace;font-weight: bold;display: inline-block;line-height: 1.2em;}#sk-container-id-1 div.sk-label-container {text-align: center;}#sk-container-id-1 div.sk-container {/* jupyter's `normalize.less` sets `[hidden] { display: none; }` but bootstrap.min.css set `[hidden] { display: none !important; }` so we also need the `!important` here to be able to override the default hidden behavior on the sphinx rendered scikit-learn.org. See: https://github.com/scikit-learn/scikit-learn/issues/21755 */display: inline-block !important;position: relative;}#sk-container-id-1 div.sk-text-repr-fallback {display: none;}</style><div id=\"sk-container-id-1\" class=\"sk-top-container\"><div class=\"sk-text-repr-fallback\"><pre>GridSearchCV(cv=StratifiedShuffleSplit(n_splits=1, random_state=0, test_size=0.2,\n",
       "            train_size=None),\n",
       "             estimator=RandomForestClassifier(random_state=0), n_jobs=-1,\n",
       "             param_grid={&#x27;bootstrap&#x27;: [True]}, scoring=&#x27;average_precision&#x27;,\n",
       "             verbose=True)</pre><b>In a Jupyter environment, please rerun this cell to show the HTML representation or trust the notebook. <br />On GitHub, the HTML representation is unable to render, please try loading this page with nbviewer.org.</b></div><div class=\"sk-container\" hidden><div class=\"sk-item sk-dashed-wrapped\"><div class=\"sk-label-container\"><div class=\"sk-label sk-toggleable\"><input class=\"sk-toggleable__control sk-hidden--visually\" id=\"sk-estimator-id-1\" type=\"checkbox\" ><label for=\"sk-estimator-id-1\" class=\"sk-toggleable__label sk-toggleable__label-arrow\">GridSearchCV</label><div class=\"sk-toggleable__content\"><pre>GridSearchCV(cv=StratifiedShuffleSplit(n_splits=1, random_state=0, test_size=0.2,\n",
       "            train_size=None),\n",
       "             estimator=RandomForestClassifier(random_state=0), n_jobs=-1,\n",
       "             param_grid={&#x27;bootstrap&#x27;: [True]}, scoring=&#x27;average_precision&#x27;,\n",
       "             verbose=True)</pre></div></div></div><div class=\"sk-parallel\"><div class=\"sk-parallel-item\"><div class=\"sk-item\"><div class=\"sk-label-container\"><div class=\"sk-label sk-toggleable\"><input class=\"sk-toggleable__control sk-hidden--visually\" id=\"sk-estimator-id-2\" type=\"checkbox\" ><label for=\"sk-estimator-id-2\" class=\"sk-toggleable__label sk-toggleable__label-arrow\">estimator: RandomForestClassifier</label><div class=\"sk-toggleable__content\"><pre>RandomForestClassifier(random_state=0)</pre></div></div></div><div class=\"sk-serial\"><div class=\"sk-item\"><div class=\"sk-estimator sk-toggleable\"><input class=\"sk-toggleable__control sk-hidden--visually\" id=\"sk-estimator-id-3\" type=\"checkbox\" ><label for=\"sk-estimator-id-3\" class=\"sk-toggleable__label sk-toggleable__label-arrow\">RandomForestClassifier</label><div class=\"sk-toggleable__content\"><pre>RandomForestClassifier(random_state=0)</pre></div></div></div></div></div></div></div></div></div></div>"
      ],
      "text/plain": [
       "GridSearchCV(cv=StratifiedShuffleSplit(n_splits=1, random_state=0, test_size=0.2,\n",
       "            train_size=None),\n",
       "             estimator=RandomForestClassifier(random_state=0), n_jobs=-1,\n",
       "             param_grid={'bootstrap': [True]}, scoring='average_precision',\n",
       "             verbose=True)"
      ]
     },
     "execution_count": 55,
     "metadata": {},
     "output_type": "execute_result"
    }
   ],
   "source": [
    "X_train = generate_static_pipeline(X_train_df).fit_transform(X_train, y_train)\n",
    "grid.fit(X_train, y_train)"
   ]
  },
  {
   "cell_type": "code",
   "execution_count": 56,
   "metadata": {},
   "outputs": [
    {
     "name": "stdout",
     "output_type": "stream",
     "text": [
      "Meilleurs paramètres du GridSearch: {'bootstrap': True}\n",
      "Meilleur score du GridSearch: 16.58984%\n"
     ]
    }
   ],
   "source": [
    "print(f\"Meilleurs paramètres du GridSearch: {grid.best_params_}\")\n",
    "print(f\"Meilleur score du GridSearch: {grid.best_score_:0.5%}\")"
   ]
  },
  {
   "cell_type": "markdown",
   "metadata": {},
   "source": [
    "## 3.4 Pipeline finale\n"
   ]
  },
  {
   "cell_type": "code",
   "execution_count": null,
   "metadata": {},
   "outputs": [],
   "source": [
    "pipeline = make_pipeline(\n",
    "    generate_static_pipeline(X_train_df),\n",
    "    RandomForestClassifier(random_state=0, n_jobs=-1, **grid.best_params_),\n",
    ")"
   ]
  },
  {
   "cell_type": "markdown",
   "metadata": {},
   "source": [
    "## 3.5 Évaluation\n"
   ]
  },
  {
   "cell_type": "code",
   "execution_count": null,
   "metadata": {},
   "outputs": [],
   "source": [
    "pipeline.fit(X_train_df, y_train_df)"
   ]
  },
  {
   "cell_type": "code",
   "execution_count": null,
   "metadata": {},
   "outputs": [],
   "source": [
    "print(\n",
    "    f\"Average precision score: {metrics.average_precision_score(y_test, pipeline.predict_proba(X_test)[:, 1]):.4%}\"\n",
    ")\n",
    "metrics.PrecisionRecallDisplay.from_estimator(\n",
    "    pipeline, X_test, y_test, name=\"RandomForest\", plot_chance_level=True\n",
    ")"
   ]
  },
  {
   "cell_type": "markdown",
   "metadata": {},
   "source": [
    "## 3.6 Prédiction sur les données de test\n"
   ]
  },
  {
   "cell_type": "code",
   "execution_count": 13,
   "metadata": {},
   "outputs": [
    {
     "name": "stderr",
     "output_type": "stream",
     "text": [
      "INFO:gensim.models.keyedvectors:loading projection weights from /Users/charles/gensim-data/word2vec-google-news-300/word2vec-google-news-300.gz\n",
      "INFO:gensim.utils:KeyedVectors lifecycle event {'msg': 'loaded (3000000, 300) matrix of type float32 from /Users/charles/gensim-data/word2vec-google-news-300/word2vec-google-news-300.gz', 'binary': True, 'encoding': 'utf8', 'datetime': '2023-11-23T09:13:03.313449', 'gensim': '4.3.0', 'python': '3.10.13 (main, Sep 11 2023, 08:24:56) [Clang 14.0.6 ]', 'platform': 'macOS-14.0-arm64-arm-64bit', 'event': 'load_word2vec_format'}\n"
     ]
    }
   ],
   "source": [
    "out = pipeline.fit(X_train_df, y_train_df).predict_proba(X_test_df)\n",
    "out_ = out[:, 1]\n",
    "IDs = pd.read_csv(X_test_file)[\"ID\"]\n",
    "df = pd.DataFrame({\"ID\": IDs, \"fraud_flag\": out_})\n",
    "df = df.reset_index()\n",
    "df.to_csv(\"out.csv\", index=False)\n",
    "df.describe()"
   ]
  }
 ],
 "metadata": {
  "kernelspec": {
   "display_name": "Challenge0",
   "language": "python",
   "name": "python3"
  },
  "language_info": {
   "codemirror_mode": {
    "name": "ipython",
    "version": 3
   },
   "file_extension": ".py",
   "mimetype": "text/x-python",
   "name": "python",
   "nbconvert_exporter": "python",
   "pygments_lexer": "ipython3",
   "version": "3.10.13"
  }
 },
 "nbformat": 4,
 "nbformat_minor": 2
}
