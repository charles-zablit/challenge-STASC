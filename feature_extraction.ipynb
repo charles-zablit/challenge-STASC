{
 "cells": [
  {
   "cell_type": "code",
   "execution_count": 1,
   "metadata": {},
   "outputs": [],
   "source": [
    "import logging\n",
    "import pathlib\n",
    "from typing import Tuple, List\n",
    "\n",
    "import numpy as np\n",
    "import pandas as pd"
   ]
  },
  {
   "cell_type": "code",
   "execution_count": 3,
   "metadata": {},
   "outputs": [],
   "source": [
    "# Initialize logger\n",
    "logging.basicConfig(level=logging.INFO)"
   ]
  },
  {
   "cell_type": "code",
   "execution_count": 5,
   "metadata": {},
   "outputs": [],
   "source": [
    "X_train_file = pathlib.Path(\"data/X_train_G3tdtEn.csv\")\n",
    "y_train_file = pathlib.Path(\"data/Y_train_2_XPXJDyy.csv\")\n",
    "X_test_file = pathlib.Path(\"data/X_test_8skS2ey.csv\")"
   ]
  },
  {
   "cell_type": "code",
   "execution_count": 4,
   "metadata": {},
   "outputs": [],
   "source": [
    "def load_train_df(path: pathlib.Path) -> pd.DataFrame:\n",
    "    mixed_columns = (\n",
    "        [\"item\" + str(i) for i in range(1, 25)]\n",
    "        + [\"make\" + str(i) for i in range(1, 25)]\n",
    "        + [\"model\" + str(i) for i in range(1, 25)]\n",
    "        + [\"goods_code\" + str(i) for i in range(1, 25)]\n",
    "    )\n",
    "    mixed_columns_dtype = {col: str for col in mixed_columns}\n",
    "    return pd.read_csv(path, dtype=mixed_columns_dtype)\n",
    "\n",
    "\n",
    "def load_test_df(path: pathlib.Path) -> pd.Series:\n",
    "    return pd.read_csv(path)[\"fraud_flag\"]"
   ]
  },
  {
   "cell_type": "code",
   "execution_count": null,
   "metadata": {},
   "outputs": [],
   "source": [
    "def extract_features(df: pd.DataFrame) -> pd.DataFrame:\n",
    "    \"\"\"Extract features from raw data.\"\"\"\n",
    "    res = pd.DataFrame()\n",
    "    res[\"Nb_of_items\"] = df[\"Nb_of_items\"]"
   ]
  },
  {
   "cell_type": "code",
   "execution_count": 6,
   "metadata": {},
   "outputs": [],
   "source": [
    "X_train_df = load_train_df(X_train_file)\n",
    "y_train_df = load_test_df(y_train_file)"
   ]
  },
  {
   "cell_type": "code",
   "execution_count": null,
   "metadata": {},
   "outputs": [],
   "source": [
    "def actual_counts_check(df: pd.DataFrame) -> pd.DataFrame:\n",
    "    actual_counts = df[[\"item\" + str(i) for i in range(1, 25)]].notna().sum(axis=1)\n",
    "    # Compare these counts with the last column\n",
    "    actual_counts = actual_counts != df[\"Nb_of_items\"]\n",
    "    return df.iloc[actual_counts[actual_counts].index][\"ID\"]"
   ]
  }
 ],
 "metadata": {
  "kernelspec": {
   "display_name": "Challenge0",
   "language": "python",
   "name": "python3"
  },
  "language_info": {
   "codemirror_mode": {
    "name": "ipython",
    "version": 3
   },
   "file_extension": ".py",
   "mimetype": "text/x-python",
   "name": "python",
   "nbconvert_exporter": "python",
   "pygments_lexer": "ipython3",
   "version": "3.10.13"
  }
 },
 "nbformat": 4,
 "nbformat_minor": 2
}
